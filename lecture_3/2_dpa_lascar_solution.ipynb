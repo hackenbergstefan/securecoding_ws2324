{
 "cells": [
  {
   "attachments": {},
   "cell_type": "markdown",
   "metadata": {},
   "source": [
    "# Lecture 3: Password Attack with Differential-Power-Analysis (Kocher et al. 1999)"
   ]
  },
  {
   "cell_type": "code",
   "execution_count": null,
   "metadata": {},
   "outputs": [],
   "source": [
    "%load_ext autoreload\n",
    "%autoreload 2\n",
    "\n",
    "import os\n",
    "import random\n",
    "\n",
    "import lascar\n",
    "import numpy as np\n",
    "import plotly.graph_objects as pgo\n",
    "from cwtoolbox import CaptureDevice"
   ]
  },
  {
   "cell_type": "code",
   "execution_count": null,
   "metadata": {},
   "outputs": [],
   "source": [
    "capture_device = CaptureDevice.create(\"CWLITEXMEGA\")\n",
    "capture_device.compile(file=os.path.abspath(\"sbox_lookup.c\"))\n",
    "capture_device.flash()"
   ]
  },
  {
   "cell_type": "code",
   "execution_count": null,
   "metadata": {},
   "outputs": [],
   "source": [
    "data = capture_device.capture(\n",
    "    number_of_traces=1000,\n",
    "    input=lambda _: [random.randint(0, 255)] + 15 * [0],\n",
    ")"
   ]
  },
  {
   "cell_type": "code",
   "execution_count": null,
   "metadata": {},
   "outputs": [],
   "source": [
    "def selection_function(value, guess):\n",
    "    return lascar.tools.aes.sbox[value[\"input\"][0] ^ guess] & 0x80 == 0\n",
    "\n",
    "\n",
    "trace = lascar.TraceBatchContainer(data[\"trace\"], data)\n",
    "engine = lascar.DpaEngine(\n",
    "    selection_function=selection_function,\n",
    "    guess_range=range(256),\n",
    ")\n",
    "\n",
    "session = lascar.Session(\n",
    "    trace,\n",
    "    engine=engine,\n",
    "    output_method=lascar.TableOutputMethod(engine),\n",
    ")\n",
    "session.run(batch_size=\"auto\")"
   ]
  }
 ],
 "metadata": {
  "kernelspec": {
   "display_name": "Python 3.10.7 ('chipwhisperer-td5n7f84')",
   "language": "python",
   "name": "python3"
  },
  "language_info": {
   "codemirror_mode": {
    "name": "ipython",
    "version": 3
   },
   "file_extension": ".py",
   "mimetype": "text/x-python",
   "name": "python",
   "nbconvert_exporter": "python",
   "pygments_lexer": "ipython3",
   "version": "3.11.5"
  },
  "vscode": {
   "interpreter": {
    "hash": "36760b1de54f02795c2144c8e36ca6fc5439200debad8ef46d119beb88a8f8a2"
   }
  }
 },
 "nbformat": 4,
 "nbformat_minor": 2
}
