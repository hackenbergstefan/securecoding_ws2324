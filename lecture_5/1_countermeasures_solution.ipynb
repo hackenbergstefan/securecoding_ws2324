{
 "cells": [
  {
   "attachments": {},
   "cell_type": "markdown",
   "metadata": {},
   "source": [
    "# Countermeasures for side-channel analysis"
   ]
  },
  {
   "cell_type": "code",
   "execution_count": null,
   "metadata": {},
   "outputs": [],
   "source": [
    "%load_ext autoreload\n",
    "%autoreload 2\n",
    "\n",
    "import os\n",
    "import random\n",
    "\n",
    "import lascar\n",
    "import numpy as np\n",
    "import plotly.graph_objects as pgo\n",
    "from cwtoolbox import CaptureDevice"
   ]
  },
  {
   "cell_type": "code",
   "execution_count": null,
   "metadata": {},
   "outputs": [],
   "source": [
    "class EvolutionOutputMethod(lascar.ScoreProgressionOutputMethod):\n",
    "    def _finalize(self):\n",
    "        scores = np.array(next(iter(self.scores.values()))).T\n",
    "        fig = pgo.Figure()\n",
    "        for guess, score in zip(self.engines[0]._guess_range, scores):\n",
    "            fig.add_trace(pgo.Scatter(x=self.steps, y=score, name=str(guess)))\n",
    "        fig.show()"
   ]
  },
  {
   "cell_type": "code",
   "execution_count": null,
   "metadata": {},
   "outputs": [],
   "source": [
    "def sbox_output_selection_function(value, guess):\n",
    "    return lascar.hamming(lascar.tools.aes.sbox[value[\"input\"][0] ^ guess])\n",
    "\n",
    "\n",
    "def cpa(data, selection_function):\n",
    "    trace = lascar.TraceBatchContainer(data[\"trace\"], data)\n",
    "    engine = lascar.CpaEngine(\n",
    "        selection_function=selection_function,\n",
    "        guess_range=range(256),\n",
    "    )\n",
    "\n",
    "    session = lascar.Session(\n",
    "        trace,\n",
    "        engine=engine,\n",
    "        output_method=EvolutionOutputMethod(engine),\n",
    "        output_steps=range(0, len(data), 100),\n",
    "        progressbar=False,\n",
    "    )\n",
    "    session.run(batch_size=\"auto\")"
   ]
  },
  {
   "attachments": {},
   "cell_type": "markdown",
   "metadata": {},
   "source": [
    "## 1. Hiding"
   ]
  },
  {
   "cell_type": "code",
   "execution_count": null,
   "metadata": {},
   "outputs": [],
   "source": [
    "capture_device = CaptureDevice.create(\"CWLITEXMEGA\")\n",
    "capture_device.compile(file=os.path.abspath(\"sbox_lookup_hiding.c\"))\n",
    "capture_device.flash()"
   ]
  },
  {
   "attachments": {},
   "cell_type": "markdown",
   "metadata": {},
   "source": [
    "### 1 Bit random"
   ]
  },
  {
   "cell_type": "code",
   "execution_count": null,
   "metadata": {},
   "outputs": [],
   "source": [
    "data = capture_device.capture(\n",
    "    number_of_traces=500,\n",
    "    input=lambda _: [random.randint(0, 255) for _ in range(16)]\n",
    "    + [random.randint(0, 1)],\n",
    ")\n",
    "\n",
    "cpa(data, sbox_output_selection_function)"
   ]
  },
  {
   "attachments": {},
   "cell_type": "markdown",
   "metadata": {},
   "source": [
    "### 2 Bit random"
   ]
  },
  {
   "cell_type": "code",
   "execution_count": null,
   "metadata": {},
   "outputs": [],
   "source": [
    "data = capture_device.capture(\n",
    "    number_of_traces=1000,\n",
    "    input=lambda _: [random.randint(0, 255) for _ in range(16)]\n",
    "    + [random.randint(0, 3)],\n",
    ")\n",
    "\n",
    "cpa(data, sbox_output_selection_function)"
   ]
  },
  {
   "attachments": {},
   "cell_type": "markdown",
   "metadata": {},
   "source": [
    "### 3 Bit random"
   ]
  },
  {
   "cell_type": "code",
   "execution_count": null,
   "metadata": {},
   "outputs": [],
   "source": [
    "data = capture_device.capture(\n",
    "    number_of_traces=5000,\n",
    "    input=lambda _: [random.randint(0, 255) for _ in range(16)]\n",
    "    + [random.randint(0, 7)],\n",
    ")\n",
    "\n",
    "cpa(data, sbox_output_selection_function)"
   ]
  },
  {
   "attachments": {},
   "cell_type": "markdown",
   "metadata": {},
   "source": [
    "### 4 Bit random"
   ]
  },
  {
   "cell_type": "code",
   "execution_count": null,
   "metadata": {},
   "outputs": [],
   "source": [
    "data = capture_device.capture(\n",
    "    number_of_traces=10000,\n",
    "    input=lambda _: [random.randint(0, 255) for _ in range(16)]\n",
    "    + [random.randint(0, 15)],\n",
    ")\n",
    "\n",
    "cpa(data, sbox_output_selection_function)"
   ]
  },
  {
   "attachments": {},
   "cell_type": "markdown",
   "metadata": {},
   "source": [
    "## 2. Masking"
   ]
  },
  {
   "attachments": {},
   "cell_type": "markdown",
   "metadata": {},
   "source": [
    "### Masking the SBox output\n",
    "\n",
    "Given a mask $m_o$ then a _SBox with output mask_ is a modified AES-SBOX $\\mathrm{SBOX'}$ with the property:\n",
    "\n",
    "$$ \\mathrm{SBOX'}(\\mathrm{pt}_i \\oplus k_i) = \\mathrm{SBOX}(\\mathrm{pt}_i \\oplus k_i) \\oplus m_o $$\n",
    "\n",
    "Where $k_i$ is the $i$-th key byte and $\\mathrm{pt}_i$ the $i$-th input byte.\n"
   ]
  },
  {
   "cell_type": "code",
   "execution_count": null,
   "metadata": {},
   "outputs": [],
   "source": [
    "capture_device.compile(file=os.path.abspath(\"sbox_lookup_masking.c\"))\n",
    "capture_device.flash()"
   ]
  },
  {
   "cell_type": "code",
   "execution_count": null,
   "metadata": {},
   "outputs": [],
   "source": [
    "data = capture_device.capture(\n",
    "    number_of_traces=10000,\n",
    "    input=lambda _: [random.randint(0, 255) for _ in range(16)]\n",
    "    + [random.randint(0, 255)],\n",
    ")\n",
    "\n",
    "cpa(data, sbox_output_selection_function)"
   ]
  }
 ],
 "metadata": {
  "kernelspec": {
   "display_name": "Python 3.10.8 ('chipwhisperer-td5n7f84')",
   "language": "python",
   "name": "python3"
  },
  "language_info": {
   "codemirror_mode": {
    "name": "ipython",
    "version": 3
   },
   "file_extension": ".py",
   "mimetype": "text/x-python",
   "name": "python",
   "nbconvert_exporter": "python",
   "pygments_lexer": "ipython3",
   "version": "3.11.5"
  },
  "vscode": {
   "interpreter": {
    "hash": "36760b1de54f02795c2144c8e36ca6fc5439200debad8ef46d119beb88a8f8a2"
   }
  }
 },
 "nbformat": 4,
 "nbformat_minor": 2
}
